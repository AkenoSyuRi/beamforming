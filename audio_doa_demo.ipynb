{
 "cells": [
  {
   "cell_type": "markdown",
   "metadata": {},
   "source": [
    "#### CMA100， 空间宽带声源定位测试\n",
    "1. 该算法预用于俯仰角抑制后，希望能够在我们关注的区域内找到声源位置。\n",
    "2. 测试包括单声源测试， 以及多声源测试。\n",
    "3. 在多声源测试中，引入了一个语音源和噪声源，他们的长度都为4s， 以512个采样点为一帧(32ms),帧移128个采样点(延时8ms)。可以控制他们的总体信噪比， 但每一帧的信噪比不一样，有些帧中噪声能量会超过信号能量，这一部分还需要考虑一些额外处理。\n",
    "4. 对于单声源测试， 测试效果非常稳定且准确。"
   ]
  },
  {
   "cell_type": "code",
   "execution_count": 1,
   "metadata": {},
   "outputs": [],
   "source": [
    "from Beamform.BFModel import beamforming_model\n",
    "from Beamform.CMA100 import CMA100\n",
    "import librosa\n",
    "from Beamform.tools import ConvertToTargetDb, CalRms, NormLength\n",
    "import numpy as np\n",
    "import IPython.display as ipd\n",
    "import soundfile as sf"
   ]
  },
  {
   "cell_type": "code",
   "execution_count": 2,
   "metadata": {},
   "outputs": [],
   "source": [
    "# 初始化cma100阵列\n",
    "cma100 = CMA100(fs=16000, L=512)\n",
    "# 导入音频\n",
    "audio_data, _ = librosa.load('./test_audios/1.wav', sr=16000)\n",
    "noise_data, _ = librosa.load('./test_audios/A8_0.wav', sr=16000)\n",
    "audio_data = audio_data[:4*16000]\n",
    "noise_data = noise_data[:4*16000]\n",
    "# 控制声音能量\n",
    "audio_data = ConvertToTargetDb(audio_data, -20)\n",
    "noise_data = ConvertToTargetDb(noise_data, -30)\n",
    "sf.write(\"./audio_data.wav\", audio_data, samplerate=16000)\n",
    "sf.write(\"./noise_data.wav\", noise_data, samplerate=16000)\n",
    "\n",
    "audio_rfft = librosa.stft(audio_data, n_fft=512, win_length=512, hop_length=128)\n",
    "noise_rfft = librosa.stft(noise_data, n_fft=512, win_length=512, hop_length=128)\n"
   ]
  },
  {
   "cell_type": "code",
   "execution_count": 3,
   "metadata": {},
   "outputs": [
    {
     "ename": "KeyboardInterrupt",
     "evalue": "",
     "output_type": "error",
     "traceback": [
      "\u001b[0;31m---------------------------------------------------------------------------\u001b[0m",
      "\u001b[0;31mKeyboardInterrupt\u001b[0m                         Traceback (most recent call last)",
      "Cell \u001b[0;32mIn[3], line 17\u001b[0m\n\u001b[1;32m     15\u001b[0m cma100\u001b[39m.\u001b[39madd_signal(S_x \u001b[39m=\u001b[39m audio_x, S_y \u001b[39m=\u001b[39m audio_y, S_z \u001b[39m=\u001b[39m audio_z, signal_rfft \u001b[39m=\u001b[39m audio_rfft[:, i])\n\u001b[1;32m     16\u001b[0m cma100\u001b[39m.\u001b[39mband_filter() \u001b[39m# 频点分配\u001b[39;00m\n\u001b[0;32m---> 17\u001b[0m cma100\u001b[39m.\u001b[39;49mangleFilter_doa() \u001b[39m# 角度抑制 + doa\u001b[39;00m\n\u001b[1;32m     18\u001b[0m cma100\u001b[39m.\u001b[39mreset() \u001b[39m# 重置阵列，用于处理下一帧\u001b[39;00m\n\u001b[1;32m     19\u001b[0m \u001b[39mif\u001b[39;00m i \u001b[39m==\u001b[39m \u001b[39m15\u001b[39m:\n",
      "File \u001b[0;32m~/project/Beamforming/Beamform/CMA100.py:244\u001b[0m, in \u001b[0;36mCMA100.angleFilter_doa\u001b[0;34m(self, decay_angle, bf_method)\u001b[0m\n\u001b[1;32m    242\u001b[0m theta_range \u001b[39m=\u001b[39m np\u001b[39m.\u001b[39marange(theta \u001b[39m-\u001b[39m theta_delta, theta \u001b[39m+\u001b[39m theta_delta\u001b[39m+\u001b[39m\u001b[39m1e-6\u001b[39m, \u001b[39m1\u001b[39m\u001b[39m/\u001b[39m\u001b[39m180\u001b[39m \u001b[39m*\u001b[39m np\u001b[39m.\u001b[39mpi)\n\u001b[1;32m    243\u001b[0m \u001b[39mif\u001b[39;00m bf_method \u001b[39m==\u001b[39m \u001b[39m\"\u001b[39m\u001b[39mcbf\u001b[39m\u001b[39m\"\u001b[39m:\n\u001b[0;32m--> 244\u001b[0m     P[k, :, :, angle_index] \u001b[39m=\u001b[39m \u001b[39mself\u001b[39;49m\u001b[39m.\u001b[39;49mdoa_v1(k, theta_range, rou_range)\n\u001b[1;32m    245\u001b[0m \u001b[39mif\u001b[39;00m bf_method \u001b[39m==\u001b[39m \u001b[39m\"\u001b[39m\u001b[39mmvdr\u001b[39m\u001b[39m\"\u001b[39m:\n\u001b[1;32m    246\u001b[0m     P[k, :, :, angle_index] \u001b[39m=\u001b[39m \u001b[39mself\u001b[39m\u001b[39m.\u001b[39mdoa_v2(k, theta_range, rou_range)\n",
      "File \u001b[0;32m~/project/Beamforming/Beamform/CMA100.py:408\u001b[0m, in \u001b[0;36mCMA100.doa_v1\u001b[0;34m(self, k, theta_range, rou_range)\u001b[0m\n\u001b[1;32m    406\u001b[0m         phase_matrix \u001b[39m=\u001b[39m np\u001b[39m.\u001b[39mexp(\u001b[39m1\u001b[39mj\u001b[39m*\u001b[39m\u001b[39m2\u001b[39m\u001b[39m*\u001b[39mnp\u001b[39m.\u001b[39mpi\u001b[39m*\u001b[39mk\u001b[39m*\u001b[39m\u001b[39mself\u001b[39m\u001b[39m.\u001b[39mfs\u001b[39m*\u001b[39mdistance_matrix\u001b[39m/\u001b[39m\u001b[39mself\u001b[39m\u001b[39m.\u001b[39mc\u001b[39m/\u001b[39m\u001b[39mself\u001b[39m\u001b[39m.\u001b[39mL)\n\u001b[1;32m    407\u001b[0m         phase_matrix_H \u001b[39m=\u001b[39m np\u001b[39m.\u001b[39mconj(phase_matrix\u001b[39m.\u001b[39mT)\n\u001b[0;32m--> 408\u001b[0m         P[i,j] \u001b[39m=\u001b[39m np\u001b[39m.\u001b[39mabs(np\u001b[39m.\u001b[39mdot( phase_matrix_H, np\u001b[39m.\u001b[39mdot(covariance, phase_matrix) ))\n\u001b[1;32m    410\u001b[0m \u001b[39mreturn\u001b[39;00m P\n",
      "\u001b[0;31mKeyboardInterrupt\u001b[0m: "
     ]
    }
   ],
   "source": [
    "# 空间单信号源定位测试， 对单一信号源进行定位测试：\n",
    "# 设置声源位置\n",
    "audio_x = 3.0\n",
    "audio_y = 0.0\n",
    "audio_z = 0.0\n",
    "\n",
    "# 模拟阵列流式接受信号， 并处理的过程\n",
    "frameLength = 512\n",
    "N = audio_rfft.shape[1]\n",
    "enhancedAudio = np.zeros_like(audio_rfft)\n",
    "micAudio = np.zeros_like(audio_rfft)\n",
    "\n",
    "# 流式处理：\n",
    "for i in range(N):\n",
    "    cma100.add_signal(S_x = audio_x, S_y = audio_y, S_z = audio_z, signal_rfft = audio_rfft[:, i])\n",
    "    cma100.band_filter() # 频点分配\n",
    "    cma100.angleFilter_doa() # 角度抑制 + doa\n",
    "    cma100.reset() # 重置阵列，用于处理下一帧\n",
    "    if i == 15:\n",
    "        break"
   ]
  },
  {
   "cell_type": "code",
   "execution_count": 4,
   "metadata": {},
   "outputs": [
    {
     "name": "stdout",
     "output_type": "stream",
     "text": [
      "x is 0.0\n",
      "y is -0.0\n",
      "x is 3.0\n",
      "y is 0.0\n",
      "x is 3.0\n",
      "y is 0.0\n"
     ]
    },
    {
     "ename": "KeyboardInterrupt",
     "evalue": "",
     "output_type": "error",
     "traceback": [
      "\u001b[0;31m---------------------------------------------------------------------------\u001b[0m",
      "\u001b[0;31mKeyboardInterrupt\u001b[0m                         Traceback (most recent call last)",
      "Cell \u001b[0;32mIn[4], line 18\u001b[0m\n\u001b[1;32m     16\u001b[0m cma100\u001b[39m.\u001b[39madd_signal(S_x \u001b[39m=\u001b[39m audio_x, S_y \u001b[39m=\u001b[39m audio_y, S_z \u001b[39m=\u001b[39m audio_z, signal_rfft \u001b[39m=\u001b[39m audio_rfft[:, i])\n\u001b[1;32m     17\u001b[0m cma100\u001b[39m.\u001b[39mband_filter() \u001b[39m# 频点分配\u001b[39;00m\n\u001b[0;32m---> 18\u001b[0m cma100\u001b[39m.\u001b[39;49mangleFilter_doa(bf_method \u001b[39m=\u001b[39;49m \u001b[39m\"\u001b[39;49m\u001b[39mmusic\u001b[39;49m\u001b[39m\"\u001b[39;49m) \u001b[39m# 角度抑制 + doa\u001b[39;00m\n\u001b[1;32m     19\u001b[0m \u001b[39mif\u001b[39;00m i \u001b[39m==\u001b[39m \u001b[39m15\u001b[39m:\n\u001b[1;32m     20\u001b[0m     \u001b[39mbreak\u001b[39;00m\n",
      "File \u001b[0;32m~/project/Beamforming/Beamform/CMA100.py:248\u001b[0m, in \u001b[0;36mCMA100.angleFilter_doa\u001b[0;34m(self, decay_angle, bf_method)\u001b[0m\n\u001b[1;32m    246\u001b[0m                 P[k, :, :, angle_index] \u001b[39m=\u001b[39m \u001b[39mself\u001b[39m\u001b[39m.\u001b[39mdoa_v2(k, theta_range, rou_range)\n\u001b[1;32m    247\u001b[0m             \u001b[39mif\u001b[39;00m bf_method \u001b[39m==\u001b[39m \u001b[39m\"\u001b[39m\u001b[39mmusic\u001b[39m\u001b[39m\"\u001b[39m:\n\u001b[0;32m--> 248\u001b[0m                 P[k, :, :, angle_index] \u001b[39m=\u001b[39m \u001b[39mself\u001b[39;49m\u001b[39m.\u001b[39;49mdoa_v3(k, theta_range, rou_range)\n\u001b[1;32m    250\u001b[0m P_fullband \u001b[39m=\u001b[39m np\u001b[39m.\u001b[39msum(P, axis\u001b[39m=\u001b[39m\u001b[39m0\u001b[39m, keepdims\u001b[39m=\u001b[39m\u001b[39mFalse\u001b[39;00m)\n\u001b[1;32m    251\u001b[0m \u001b[39m#print(\"P_fullband is\", P_fullband)\u001b[39;00m\n\u001b[1;32m    252\u001b[0m \n\u001b[1;32m    253\u001b[0m \u001b[39m# 找到P_fullband的极值点， 计算出声源位置\u001b[39;00m\n",
      "File \u001b[0;32m~/project/Beamforming/Beamform/CMA100.py:318\u001b[0m, in \u001b[0;36mCMA100.doa_v3\u001b[0;34m(self, k, theta_range, rou_range)\u001b[0m\n\u001b[1;32m    316\u001b[0m y \u001b[39m=\u001b[39m rou_range[i] \u001b[39m*\u001b[39m np\u001b[39m.\u001b[39msin(theta_range[j])\n\u001b[1;32m    317\u001b[0m distance_matrix \u001b[39m=\u001b[39m np\u001b[39m.\u001b[39msqrt( (x \u001b[39m-\u001b[39m micx_matrix)\u001b[39m*\u001b[39m\u001b[39m*\u001b[39m\u001b[39m2\u001b[39m \u001b[39m+\u001b[39m (y \u001b[39m-\u001b[39m micy_matrix)\u001b[39m*\u001b[39m\u001b[39m*\u001b[39m\u001b[39m2\u001b[39m \u001b[39m+\u001b[39m (z\u001b[39m-\u001b[39mmicz_matrix)\u001b[39m*\u001b[39m\u001b[39m*\u001b[39m\u001b[39m2\u001b[39m )\n\u001b[0;32m--> 318\u001b[0m phase_matrix \u001b[39m=\u001b[39m np\u001b[39m.\u001b[39mexp(\u001b[39m1\u001b[39;49mj\u001b[39m*\u001b[39;49m\u001b[39m2\u001b[39;49m\u001b[39m*\u001b[39;49mnp\u001b[39m.\u001b[39;49mpi\u001b[39m*\u001b[39;49mk\u001b[39m*\u001b[39;49m\u001b[39mself\u001b[39;49m\u001b[39m.\u001b[39;49mfs\u001b[39m*\u001b[39;49mdistance_matrix\u001b[39m/\u001b[39m\u001b[39mself\u001b[39m\u001b[39m.\u001b[39mc\u001b[39m/\u001b[39m\u001b[39mself\u001b[39m\u001b[39m.\u001b[39mL)\n\u001b[1;32m    319\u001b[0m phase_matrix_H \u001b[39m=\u001b[39m np\u001b[39m.\u001b[39mconj(phase_matrix\u001b[39m.\u001b[39mT)\n\u001b[1;32m    320\u001b[0m P[i,j] \u001b[39m=\u001b[39m \u001b[39m1\u001b[39m \u001b[39m/\u001b[39m np\u001b[39m.\u001b[39mabs( np\u001b[39m.\u001b[39mdot(    np\u001b[39m.\u001b[39mdot(phase_matrix_H, En) , np\u001b[39m.\u001b[39mdot(np\u001b[39m.\u001b[39mconj(En)\u001b[39m.\u001b[39mT, phase_matrix)    ))\n",
      "\u001b[0;31mKeyboardInterrupt\u001b[0m: "
     ]
    }
   ],
   "source": [
    "# 空间单信号源定位测试， 对单一信号源进行定位测试：\n",
    "# 设置声源位置\n",
    "audio_x = 3.0\n",
    "audio_y = 0.0\n",
    "audio_z = 0.0\n",
    "\n",
    "# 模拟阵列流式接受信号， 并处理的过程\n",
    "frameLength = 512\n",
    "N = audio_rfft.shape[1]\n",
    "enhancedAudio = np.zeros_like(audio_rfft)\n",
    "micAudio = np.zeros_like(audio_rfft)\n",
    "\n",
    "# 流式处理：\n",
    "for i in range(N):\n",
    "    cma100.reset()\n",
    "    cma100.add_signal(S_x = audio_x, S_y = audio_y, S_z = audio_z, signal_rfft = audio_rfft[:, i])\n",
    "    cma100.band_filter() # 频点分配\n",
    "    cma100.angleFilter_doa(bf_method = \"music\") # 角度抑制 + doa\n",
    "    if i == 15:\n",
    "        break"
   ]
  },
  {
   "cell_type": "code",
   "execution_count": 5,
   "metadata": {},
   "outputs": [
    {
     "name": "stdout",
     "output_type": "stream",
     "text": [
      "x is 3.0\n",
      "y is 0.0\n",
      "x is 3.0\n",
      "y is 0.0\n",
      "x is 3.0\n",
      "y is 0.0\n",
      "x is 3.0\n",
      "y is 0.0\n",
      "x is 3.0\n",
      "y is 0.0\n",
      "x is 3.0\n",
      "y is 0.0\n",
      "x is 3.0\n",
      "y is 0.0\n",
      "x is 3.0\n",
      "y is 0.0\n",
      "x is 3.0\n",
      "y is 0.0\n",
      "x is 3.0\n",
      "y is 0.0\n",
      "x is 3.0\n",
      "y is 0.0\n"
     ]
    }
   ],
   "source": [
    "# 空间双信号源定位测试， 对能量较大的信号源进行定位测试：\n",
    "# 设置声源位置\n",
    "audio_x = 3.0\n",
    "audio_y = 0.0\n",
    "audio_z = 0.0\n",
    "\n",
    "noise_x = -2.0\n",
    "noise_y = 1.0\n",
    "noise_z = 0.0\n",
    "\n",
    "# 模拟阵列流式接受信号， 并处理的过程\n",
    "frameLength = 512\n",
    "N = audio_rfft.shape[1]\n",
    "enhancedAudio = np.zeros_like(audio_rfft)\n",
    "micAudio = np.zeros_like(audio_rfft)\n",
    "\n",
    "\n",
    "# 流式处理：\n",
    "for i in range(N):\n",
    "    cma100.add_signal(S_x = audio_x, S_y = audio_y, S_z = audio_z, signal_rfft = audio_rfft[:, i])\n",
    "    cma100.add_signal(S_x = noise_x, S_y = noise_y, S_z = noise_z, signal_rfft = noise_rfft[:, i])\n",
    "    micAudio[:,i] = cma100.build_signal_rfft(method=0) # 把处理前的信号提取出来\n",
    "    cma100.band_filter() # 频点分配\n",
    "    cma100.angleFilter_doa(bf_method=\"music\") # 角度抑制\n",
    "    #cma100.angleFilter_Beamform()\n",
    "    #enhancedAudio[:,i] = cma100.build_signal_rfft(method=0) # 将处理后的信号提取出来\n",
    "    cma100.reset() # 重置阵列，用于处理下一帧\n",
    "    if i == 10: break"
   ]
  },
  {
   "cell_type": "code",
   "execution_count": 6,
   "metadata": {},
   "outputs": [
    {
     "name": "stdout",
     "output_type": "stream",
     "text": [
      "x is 0.0\n",
      "y is -0.0\n",
      "x is 3.0\n",
      "y is 0.0\n",
      "x is 3.0\n",
      "y is 0.0\n",
      "x is 3.0\n",
      "y is 0.0\n",
      "x is 3.0\n",
      "y is 0.0\n",
      "x is 3.0\n",
      "y is 0.0\n",
      "x is 3.0\n",
      "y is 0.0\n",
      "x is 3.0\n",
      "y is 0.0\n",
      "x is 2.899558315953535\n",
      "y is 0.05061197866812226\n",
      "x is 2.9000000000000004\n",
      "y is 0.0\n",
      "x is 3.0\n",
      "y is 0.0\n"
     ]
    }
   ],
   "source": [
    "# 空间双信号源定位测试， 对能量较大的信号源进行定位测试：\n",
    "# 设置声源位置\n",
    "audio_x = 3.0\n",
    "audio_y = 0.0\n",
    "audio_z = 0.0\n",
    "\n",
    "noise_x = -2.0\n",
    "noise_y = 1.0\n",
    "noise_z = 0.0\n",
    "\n",
    "# 模拟阵列流式接受信号， 并处理的过程\n",
    "frameLength = 512\n",
    "N = audio_rfft.shape[1]\n",
    "enhancedAudio = np.zeros_like(audio_rfft)\n",
    "micAudio = np.zeros_like(audio_rfft)\n",
    "\n",
    "\n",
    "# 流式处理：\n",
    "for i in range(N):\n",
    "    cma100.add_signal(S_x = audio_x, S_y = audio_y, S_z = audio_z, signal_rfft = audio_rfft[:, i])\n",
    "    cma100.add_signal(S_x = noise_x, S_y = noise_y, S_z = noise_z, signal_rfft = noise_rfft[:, i])\n",
    "    micAudio[:,i] = cma100.build_signal_rfft(method=0) # 把处理前的信号提取出来\n",
    "    cma100.band_filter() # 频点分配\n",
    "    cma100.angleFilter_doa(bf_method=\"cbf\") # 角度抑制\n",
    "    #cma100.angleFilter_Beamform()\n",
    "    #enhancedAudio[:,i] = cma100.build_signal_rfft(method=0) # 将处理后的信号提取出来\n",
    "    cma100.reset() # 重置阵列，用于处理下一帧\n",
    "    if i == 10: break"
   ]
  }
 ],
 "metadata": {
  "kernelspec": {
   "display_name": "Python 3.8.0 ('audio')",
   "language": "python",
   "name": "python3"
  },
  "language_info": {
   "codemirror_mode": {
    "name": "ipython",
    "version": 3
   },
   "file_extension": ".py",
   "mimetype": "text/x-python",
   "name": "python",
   "nbconvert_exporter": "python",
   "pygments_lexer": "ipython3",
   "version": "3.8.0"
  },
  "orig_nbformat": 4,
  "vscode": {
   "interpreter": {
    "hash": "73eab14e7367099ba4d8bb94d37e19591868763df968cfcf9527d45d99964ddf"
   }
  }
 },
 "nbformat": 4,
 "nbformat_minor": 2
}
